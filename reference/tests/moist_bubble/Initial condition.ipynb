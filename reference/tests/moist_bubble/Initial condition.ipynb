{
 "metadata": {
  "name": "",
  "signature": "sha256:0d3965cc315bd4cc7bff46c068c35cb5578745453804fa19cde9aaf1c3e1c24d"
 },
 "nbformat": 3,
 "nbformat_minor": 0,
 "worksheets": [
  {
   "cells": [
    {
     "cell_type": "code",
     "collapsed": false,
     "input": [
      "import numpy as np\n",
      "import matplotlib.pyplot as plot\n",
      "\n",
      "%matplotlib inline"
     ],
     "language": "python",
     "metadata": {},
     "outputs": [],
     "prompt_number": 2
    },
    {
     "cell_type": "markdown",
     "metadata": {},
     "source": [
      "# Variables\n",
      "\n",
      "$r_v$: water vapour mixing ratio  \n",
      "$r_c$: cloud water mixing ratio  \n",
      "$r_t$: total water mixing ratio  \n",
      "$r_{vs}$: saturation mixing ratio  \n",
      "$\\rho_a$: dry air density  "
     ]
    },
    {
     "cell_type": "markdown",
     "metadata": {},
     "source": [
      "# Governing equations\n",
      "\n",
      "hydrostatic equation\n",
      "\n",
      "$$\n",
      "\\frac{d\\pi_0}{dz} = -\\frac{g}{c_p \\theta_{\\rho 0}},\n",
      "$$\n",
      "with\n",
      "\n",
      "$$\n",
      "\\theta_{\\rho} = \\theta \\frac{ 1+ r_v/\\epsilon}{1 + r_t}\n",
      "$$"
     ]
    },
    {
     "cell_type": "markdown",
     "metadata": {},
     "source": [
      "# Dry case\n",
      "\n",
      "- solid-wall boundary conditions\n",
      "- domain: $20km \\times 10km$\n",
      "- no wind\n",
      "- hydrostatic, constant potential temperature: $\\theta = 300K$\n",
      "- ground pressure: $p_0 = 1000mb$\n",
      "\n",
      "## perturbation\n",
      "\n",
      "$$\n",
      "\\theta' = 2 cos^2\\left( \\frac{\\pi L}{2} \\right),\\\n",
      "L = \\sqrt{\\left(\\frac{x-x_c}{x_r}\\right)^2 + \\left(\\frac{z-z_c}{z_r}\\right)^2}\n",
      "$$"
     ]
    },
    {
     "cell_type": "markdown",
     "metadata": {},
     "source": [
      "# Moist case\n",
      "\n",
      "## Assumptions\n",
      "\n",
      "1. total water mixing ratio constant\n",
      "    \n",
      "    $r_t = r_v + r_c$\n",
      "2. phase changes are exactly reversible\n",
      "    \n",
      "    $\\Delta r_v = \\Delta r_{vs} = - \\Delta r_c$\n",
      "\n",
      "## wet equivalent potential temperature\n",
      "\n",
      "$$\n",
      "\\theta_e = T \\left( \\frac{p_d}{p_{00}} \\right) ^{-R/(c_p + c_{pl}r_t)} exp\\left[ \\frac{L_v r_v}{(c_p + c_{pl}r_t)T} \\right]\n",
      "$$"
     ]
    },
    {
     "cell_type": "code",
     "collapsed": false,
     "input": [
      "theta_e = lambda: T*(p_d/p_00)**(-R/(c_p+c_pl*r_t))*exp(L_v*r_v/(c_p + c_pl*r_t)*T)"
     ],
     "language": "python",
     "metadata": {},
     "outputs": [],
     "prompt_number": 3
    },
    {
     "cell_type": "markdown",
     "metadata": {},
     "source": [
      "# According to Duarte et al."
     ]
    },
    {
     "cell_type": "code",
     "collapsed": false,
     "input": [
      "from pyclouds import utils\n",
      "\n",
      "def rv_sat(p, T):\n",
      "    p_sat = utils.pv_sat(T)\n",
      "    return utils.epsilon*p_sat/(p-p_sat)"
     ],
     "language": "python",
     "metadata": {},
     "outputs": [],
     "prompt_number": 21
    },
    {
     "cell_type": "code",
     "collapsed": false,
     "input": [
      "# constants\n",
      "g = 9.8\n",
      "cp_d = utils.cp_d\n",
      "\n",
      "# ground conditions\n",
      "rt = 0.05  # [kg/kg]\n",
      "theta_e_0 = 320. # [K]\n",
      "T0_ = 300.  # [K]\n",
      "p0_ = 101325.  # [Pa]\n",
      "\n",
      "\n",
      "# hydrostatic balance\n",
      "dpi_dz = lambda theta_rho_0: -g/(cp_d*theta_rho_0)\n",
      "\n",
      "# exner function\n",
      "p = lambda pi: pi**(cp_d/utils.Rd)*p0_\n",
      "\n",
      "# density potential temperature\n",
      "theta_rho = lambda theta, rv: theta*(1+rv/utils.epsilon)/(1+rt)\n",
      "\n",
      "\n",
      "# integrated profiles\n",
      "p0 = [p0_, ]\n",
      "pi0 = [1.0,]\n",
      "z = [0.,]\n",
      "T0 = [T0_,]\n",
      "theta0 = [T0_,]\n",
      "rv = [rv_sat(T=T0_, p=p0_), ]\n",
      "rc = [rt - rv_sat(T=T0_, p=p0_), ]\n",
      "\n",
      "dz = 10.\n",
      "z_max = 5e3\n",
      "\n",
      "while z[-1] < z_max:\n",
      "    rv_, rc_, theta0_, p0_ = rv[-1], rc[-1], theta0[-1], p0[-1]\n",
      "    T0_ = T0[-1]\n",
      "    \n",
      "    theta_rho_0 = theta_rho(theta=theta0_, rv=rv_)\n",
      "    \n",
      "    dpi = dpi_dz(theta_rho_0=theta_rho_0)*dz\n",
      "    pi0_n = pi0[-1] + dpi\n",
      "    \n",
      "    p0_n = p(pi=pi0_n)\n",
      "    dp0 = p0_n - p0_\n",
      "    \n",
      "    # partial pressure of dry air = total pressure - partial pressure of water vapour\n",
      "    pd_ = p0_ - utils.pv_sat(T=T0_)\n",
      "    \n",
      "    # change in partial pressure of dry air\n",
      "    dpd = dp0/p0_*pd_\n",
      "    \n",
      "    # new partial pressure of dry air\n",
      "    pd_n = pd_ + dpd\n",
      "    \n",
      "    break\n",
      "    "
     ],
     "language": "python",
     "metadata": {},
     "outputs": [],
     "prompt_number": 87
    },
    {
     "cell_type": "code",
     "collapsed": false,
     "input": [
      "cp_d = utils.cp_d\n",
      "R_d = utils.Rd\n",
      "cp_l = 4.186  # [J/g/K]\n",
      "Lv = 1.424 # [J/g/K]\n",
      "\n",
      "theta_e = lambda T, pd, rv: T*(pd/p0_)**(-R_d/(cp_d+cp_l*rt))*exp(Lv*rv/((cp_d+cp_l*rt)*T))"
     ],
     "language": "python",
     "metadata": {},
     "outputs": [],
     "prompt_number": 59
    },
    {
     "cell_type": "code",
     "collapsed": false,
     "input": [
      "dT_guess = - g/cp_d*dz\n",
      "\n",
      "dT = np.linspace(0., dT_guess*2., 100)\n",
      "\n",
      "T_n__ = T0[-1]+dT\n",
      "rv__ = rv_sat(p=p0_n, T=T0[-1]+dT)\n",
      "\n",
      "dtheta_e = theta_e(T=T_n__, pd=pd_n, rv=rv__) - theta_e(T=T0[-1], pd=(p0[-1]-utils.pv_sat(T=T0[-1])), rv=rv[-1])\n",
      "\n",
      "plot.plot(dT, dtheta_e)\n",
      "plot.grid(True)"
     ],
     "language": "python",
     "metadata": {},
     "outputs": [
      {
       "metadata": {},
       "output_type": "display_data",
       "png": "[encoded data removed]",
       "text": [
        "<matplotlib.figure.Figure at 0x44db090>"
       ]
      }
     ],
     "prompt_number": 69
    },
    {
     "cell_type": "code",
     "collapsed": false,
     "input": [
      "T_0 = T0[-1]\n",
      "T_n = T_0-g/cp_d*dz\n",
      "\n",
      "theta_0 = theta_e(T=T_0, pd=(p0[-1]-utils.pv_sat(T=T_0)), rv=rv[-1])\n",
      "\n",
      "def dtheta_e(T, pd_n):\n",
      "    \"\"\" Calculate change relative to constant state of IC \"\"\"\n",
      "    rv__ = rv_sat(p=p0_n, T=T)\n",
      "    v = theta_e(T=T, pd=pd_n, rv=rv__)\n",
      "    print 'v', v, theta_e_0\n",
      "    return theta_e(T=T, pd=pd_n, rv=rv__) - theta_e_0\n",
      "\n",
      "n = 0\n",
      "while n < 10:\n",
      "    dT = T_n - T_0\n",
      "\n",
      "    dtheta_e_ = dtheta_e(T=T_n, pd_n=pd_n)\n",
      "    \n",
      "    print T_n, dT, dtheta_e_\n",
      "    \n",
      "    if abs(dtheta_e_) < 10e-6:\n",
      "        break\n",
      "    \n",
      "    dtheta_e__dT = dtheta_e_/dT\n",
      "    \n",
      "    T_n = T_n-dtheta_e_/dtheta_e__dT\n",
      "    \n",
      "    print dtheta_e__dT, dT, T_n\n",
      "    print\n",
      "    \n",
      "    n += 1"
     ],
     "language": "python",
     "metadata": {},
     "outputs": [
      {
       "output_type": "stream",
       "stream": "stdout",
       "text": [
        "v 303.112019184 320.0\n",
        "299.90245262 -0.0975473801561 -16.8879808163\n",
        "173.125929054 -0.0975473801561 300.0\n",
        "\n",
        "v 303.210610701 320.0\n",
        "300.0 0.0 -16.7893892988\n",
        "-inf 0.0 300.0\n",
        "\n",
        "v 303.210610701 320.0\n",
        "300.0 0.0 -16.7893892988\n",
        "-inf 0.0 300.0\n",
        "\n",
        "v 303.210610701 320.0\n",
        "300.0 0.0 -16.7893892988\n",
        "-inf 0.0 300.0\n",
        "\n",
        "v 303.210610701 320.0\n",
        "300.0 0.0 -16.7893892988\n",
        "-inf 0.0 300.0\n",
        "\n",
        "v 303.210610701 320.0\n",
        "300.0 0.0 -16.7893892988\n",
        "-inf 0.0 300.0\n",
        "\n",
        "v 303.210610701 320.0\n",
        "300.0 0.0 -16.7893892988\n",
        "-inf 0.0 300.0\n",
        "\n",
        "v 303.210610701 320.0\n",
        "300.0 0.0 -16.7893892988\n",
        "-inf 0.0 300.0\n",
        "\n",
        "v 303.210610701 320.0\n",
        "300.0 0.0 -16.7893892988\n",
        "-inf 0.0 300.0\n",
        "\n",
        "v 303.210610701 320.0\n",
        "300.0 0.0 -16.7893892988\n",
        "-inf 0.0 300.0\n",
        "\n"
       ]
      }
     ],
     "prompt_number": 95
    },
    {
     "cell_type": "code",
     "collapsed": false,
     "input": [
      "T = 298.\n",
      "rt = 0.02\n",
      "p0 = 10000.\n",
      "\n",
      "cp_d = utils.cp_d\n",
      "R_d = utils.Rd\n",
      "cp_l = 4.186  # [J/g/K]\n",
      "Lv = 1.424 # [J/g/K]\n",
      "\n",
      "theta_e = lambda T, pd, rv: T*(pd/p0)**(-R_d/(cp_d+cp_l*rt))*exp(Lv*rv/((cp_d+cp_l*rt)*T))\n",
      "\n",
      "\n",
      "T = np.linspace(280., 310., 100)\n",
      "esat = utils.pv_sat(T=T)\n",
      "rv = utils.epsilon*esat/(p0-esat)\n",
      "pd = p0 - esat\n",
      "\n",
      "plot.plot(T, theta_e(T=T, pd=pd, rv=rv))\n",
      "plot.grid(True)"
     ],
     "language": "python",
     "metadata": {},
     "outputs": [
      {
       "metadata": {},
       "output_type": "display_data",
       "png": "[encoded data removed]",
       "text": [
        "<matplotlib.figure.Figure at 0x4880990>"
       ]
      }
     ],
     "prompt_number": 114
    },
    {
     "cell_type": "code",
     "collapsed": false,
     "input": [
      "T = 294.5\n",
      "rt = 0.02\n",
      "p0 = 10000.\n",
      "\n",
      "esat = utils.pv_sat(T=T)\n",
      "rv = utils.epsilon*esat/(p0-esat)\n",
      "pd = p0 - esat\n",
      "theta_e(T=T, pd=pd, rv=rv)"
     ],
     "language": "python",
     "metadata": {},
     "outputs": [
      {
       "metadata": {},
       "output_type": "pyout",
       "prompt_number": 117,
       "text": [
        "320.64716858396849"
       ]
      }
     ],
     "prompt_number": 117
    },
    {
     "cell_type": "code",
     "collapsed": false,
     "input": [],
     "language": "python",
     "metadata": {},
     "outputs": []
    }
   ],
   "metadata": {}
  }
 ]
}