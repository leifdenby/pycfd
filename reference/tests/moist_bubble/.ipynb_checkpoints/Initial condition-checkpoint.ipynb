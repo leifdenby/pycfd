{
 "metadata": {
  "name": "",
  "signature": "sha256:406c8b4bf825ec4667fa9856b818384858ba00108a08c87edc331afa7bfd715e"
 },
 "nbformat": 3,
 "nbformat_minor": 0,
 "worksheets": [
  {
   "cells": [
    {
     "cell_type": "code",
     "collapsed": false,
     "input": [
      "import numpy as np\n",
      "import matplotlib.pyplot as plot\n",
      "\n",
      "%matplotlib inline"
     ],
     "language": "python",
     "metadata": {},
     "outputs": [],
     "prompt_number": 2
    },
    {
     "cell_type": "markdown",
     "metadata": {},
     "source": [
      "# Variables\n",
      "\n",
      "$r_v$: water vapour mixing ratio  \n",
      "$r_c$: cloud water mixing ratio  \n",
      "$r_t$: total water mixing ratio  \n",
      "$r_{vs}$: saturation mixing ratio  \n",
      "$\\rho_a$: dry air density  "
     ]
    },
    {
     "cell_type": "markdown",
     "metadata": {},
     "source": [
      "# Governing equations\n",
      "\n",
      "hydrostatic equation\n",
      "\n",
      "$$\n",
      "\\frac{d\\pi_0}{dz} = -\\frac{g}{c_p \\theta_{\\rho 0}},\n",
      "$$\n",
      "with\n",
      "\n",
      "$$\n",
      "\\theta_{\\rho} = \\theta \\frac{ 1+ r_v/\\epsilon}{1 + r_t}\n",
      "$$"
     ]
    },
    {
     "cell_type": "markdown",
     "metadata": {},
     "source": [
      "# Dry case\n",
      "\n",
      "- solid-wall boundary conditions\n",
      "- domain: $20km \\times 10km$\n",
      "- no wind\n",
      "- hydrostatic, constant potential temperature: $\\theta = 300K$\n",
      "- ground pressure: $p_0 = 1000mb$\n",
      "\n",
      "## perturbation\n",
      "\n",
      "$$\n",
      "\\theta' = 2 cos^2\\left( \\frac{\\pi L}{2} \\right),\\\n",
      "L = \\sqrt{\\left(\\frac{x-x_c}{x_r}\\right)^2 + \\left(\\frac{z-z_c}{z_r}\\right)^2}\n",
      "$$"
     ]
    },
    {
     "cell_type": "markdown",
     "metadata": {},
     "source": [
      "# Moist case\n",
      "\n",
      "## Assumptions\n",
      "\n",
      "1. total water mixing ratio constant\n",
      "    \n",
      "    $r_t = r_v + r_c$\n",
      "2. phase changes are exactly reversible\n",
      "    \n",
      "    $\\Delta r_v = \\Delta r_{vs} = - \\Delta r_c$\n",
      "\n",
      "## wet equivalent potential temperature\n",
      "\n",
      "$$\n",
      "\\theta_e = T \\left( \\frac{p_d}{p_{00}} \\right) ^{-R/(c_p + c_{pl}r_t)} exp\\left[ \\frac{L_v r_v}{(c_p + c_{pl}r_t)T} \\right]\n",
      "$$"
     ]
    },
    {
     "cell_type": "code",
     "collapsed": false,
     "input": [
      "theta_e = lambda: T*(p_d/p_00)**(-R/(c_p+c_pl*r_t))*exp(L_v*r_v/(c_p + c_pl*r_t)*T)"
     ],
     "language": "python",
     "metadata": {},
     "outputs": [],
     "prompt_number": 3
    },
    {
     "cell_type": "markdown",
     "metadata": {},
     "source": [
      "# According to Duarte et al."
     ]
    },
    {
     "cell_type": "code",
     "collapsed": false,
     "input": [
      "# hydrostatic balance\n",
      "dpi_dz = lambda theta_rho_0: -g/(cp_d*theta_rho_0)\n",
      "\n",
      "# exner function\n",
      "p = lambda pi: pi**(cp_d/Rd)*p00\n",
      "\n",
      "\n",
      "# ground conditions\n",
      "r_t = 0.05  # [kg/kg]\n",
      "theta0_ = 298.  # [K]\n",
      "p0_ = 101325.  # [Pa]\n",
      "\n",
      "# integrated profiles\n",
      "p0 = [p0_, ]\n",
      "pi0 = [p0_,]\n",
      "z = [0.,]\n",
      "theta0 = [theta0_,]\n",
      "r_v = [ 8]\n",
      "\n",
      "dz = 10.\n",
      "z_max = 5e3\n",
      "\n",
      "while z[-1] < z_max:\n",
      "    \n",
      "    pi0_ = pi0[-1] + dpi_dz()"
     ],
     "language": "python",
     "metadata": {},
     "outputs": []
    }
   ],
   "metadata": {}
  }
 ]
}